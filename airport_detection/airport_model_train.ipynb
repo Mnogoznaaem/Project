{
 "cells": [
  {
   "cell_type": "code",
   "execution_count": null,
   "metadata": {
    "colab": {
     "base_uri": "https://localhost:8080/"
    },
    "executionInfo": {
     "elapsed": 6044,
     "status": "ok",
     "timestamp": 1748247226163,
     "user": {
      "displayName": "abc abc",
      "userId": "02778448999992714163"
     },
     "user_tz": -180
    },
    "id": "dfrV0Wi-cx5t",
    "outputId": "614533f0-ce29-4ed0-8fb6-5b40e3d25e3d"
   },
   "outputs": [],
   "source": [
    "from ultralytics import YOLO\n",
    "import os\n",
    "import torch"
   ]
  },
  {
   "cell_type": "code",
   "execution_count": 7,
   "metadata": {
    "colab": {
     "base_uri": "https://localhost:8080/"
    },
    "executionInfo": {
     "elapsed": 971,
     "status": "ok",
     "timestamp": 1748247254254,
     "user": {
      "displayName": "abc abc",
      "userId": "02778448999992714163"
     },
     "user_tz": -180
    },
    "id": "7pZFp-I-D4A_",
    "outputId": "c466a43c-0326-4915-f7a9-d91c8223cb88"
   },
   "outputs": [
    {
     "name": "stdout",
     "output_type": "stream",
     "text": [
      "Содержимое папки с датасетом:\n",
      "['data.yaml', 'test', 'train', 'val']\n",
      "\n",
      "Путь к data.yaml: ./YOLO_detected\\data.yaml\n"
     ]
    }
   ],
   "source": [
    "DATASET_PATH = \"./YOLO_detected\"\n",
    "\n",
    "# Проверка структуры датасета\n",
    "print(\"Содержимое папки с датасетом:\")\n",
    "print(os.listdir(DATASET_PATH))\n",
    "\n",
    "# Путь к data.yaml\n",
    "DATA_YAML_PATH = os.path.join(DATASET_PATH, 'data.yaml')\n",
    "print(f\"\\nПуть к data.yaml: {DATA_YAML_PATH}\")"
   ]
  },
  {
   "cell_type": "code",
   "execution_count": 3,
   "metadata": {},
   "outputs": [],
   "source": [
    "device = torch.device(\"cuda\" if torch.cuda.is_available() else \"cpu\")"
   ]
  },
  {
   "cell_type": "code",
   "execution_count": null,
   "metadata": {
    "colab": {
     "background_save": true
    },
    "id": "jQVttGsLSF2z",
    "outputId": "985b0a54-4578-4587-a080-5241b06f91f4"
   },
   "outputs": [],
   "source": [
    "# Конфигурация для YOLOv11\n",
    "config = {\n",
    "    # БЛОК 1: ОСНОВНЫЕ НАСТРОЙКИ ОБУЧЕНИЯ\n",
    "    'data': DATA_YAML_PATH,           # Путь к YAML-файлу с описанием структуры датасета\n",
    "    'epochs': 100,                    # Общее количество эпох обучения\n",
    "    'batch': 12,                      # Размер батча\n",
    "    'imgsz': 1024,                    # Размер входного изображения\n",
    "    'device': device,                 # Использование GPU для вычислений\n",
    "\n",
    "    # БЛОК 2: НАСТРОЙКИ ДАННЫХ И ПРЕПРОЦЕССИНГ\n",
    "    'workers': 6,                     # Число процессов загрузки данных\n",
    "    'cache': 'ram',                   # Кэширование в RAM\n",
    "    'single_cls': True,               # Обучение для одного класса\n",
    "\n",
    "    # БЛОК 3: ОПТИМИЗАЦИЯ И РЕГУЛЯРИЗАЦИЯ\n",
    "    'optimizer': 'AdamW',             # Алгоритм оптимизации\n",
    "    'cos_lr': True,\n",
    "    'lr0': 0.0005,                    # Сниженный стартовый learning rate для стабильности\n",
    "    'lrf': 0.01,                      # Конечный LR = lr0 * lrf\n",
    "    'amp': True,                      # Смешанная точность\n",
    "    'patience': 10,                   # Более частая ранняя остановка для предотвращения перетренировки\n",
    "\n",
    "    # БЛОК 4: АУГМЕНТАЦИЯ (ориентировано на точность)\n",
    "    'augment': True,\n",
    "    'mosaic': 0.5,\n",
    "    'hsv_h': 0.05,\n",
    "    'hsv_s': 0.5,\n",
    "    'hsv_v': 0.5,\n",
    "    'close_mosaic': 50,               # Отключение мозаики после 50 эпох\n",
    "\n",
    "    'flipud': 0.2,                    # Вертикальное отражение\n",
    "    'fliplr': 0.4,                    # Горизонтальное отражение\n",
    "    'perspective': 0.0005,            # Перспективные искажения\n",
    "    'shear': 0.1,                     # Наклон (макс. 10%)\n",
    "    'mixup': 0.0,                     # Mixup отключен для улучшения точности\n",
    "    'copy_paste': 0.05,               # Копирование объектов\n",
    "\n",
    "    # БЛОК 5: СОХРАНЕНИЕ И МОНИТОРИНГ\n",
    "    'project': './models',\n",
    "    'name': 'airport_yolov11',\n",
    "    'exist_ok': True,\n",
    "    'save_period': 5,\n",
    "    'plots': True,\n",
    "\n",
    "\n",
    "    'resume': True                  # Раскомментировать для продолжения обучения\n",
    "}\n",
    "\n",
    "# Загрузка модели YOLOv11\n",
    "#model = YOLO('yolo11m.pt')         # Раскомментировать для продолжения обучения\n",
    "model = YOLO('./models/airport_yolov11/weights/last.pt')\n",
    "results = model.train(**config)"
   ]
  }
 ],
 "metadata": {
  "accelerator": "GPU",
  "colab": {
   "gpuType": "T4",
   "provenance": []
  },
  "kernelspec": {
   "display_name": ".venv",
   "language": "python",
   "name": "python3"
  },
  "language_info": {
   "codemirror_mode": {
    "name": "ipython",
    "version": 3
   },
   "file_extension": ".py",
   "mimetype": "text/x-python",
   "name": "python",
   "nbconvert_exporter": "python",
   "pygments_lexer": "ipython3",
   "version": "3.13.5"
  }
 },
 "nbformat": 4,
 "nbformat_minor": 0
}
